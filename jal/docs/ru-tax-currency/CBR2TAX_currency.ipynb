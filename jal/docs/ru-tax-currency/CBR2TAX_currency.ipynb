{
 "cells": [
  {
   "cell_type": "markdown",
   "id": "7cd3591a-59d6-4e87-a603-44fc8903b037",
   "metadata": {},
   "source": [
    "Below code takes <tt>CurrencyRates.xml</tt> that comes with <i>\"Декларация\"</i> russian tax software and makes a list of available currencies from it.<br>\n",
    "Then it takes a list of currencies from Russian Central bank site.<br>\n",
    "Both list are merged in order to create <tt>currencies</tt> dictionary for <tt>DLSG</tt> class."
   ]
  },
  {
   "cell_type": "code",
   "execution_count": 38,
   "id": "57cb52c2-ab64-421d-8a39-04911369fa07",
   "metadata": {},
   "outputs": [],
   "source": [
    "import requests\n",
    "import pandas as pd\n",
    "from lxml import etree"
   ]
  },
  {
   "cell_type": "code",
   "execution_count": 39,
   "id": "63d70078-b0b7-478c-8fb3-e4a35a36e415",
   "metadata": {
    "tags": []
   },
   "outputs": [],
   "source": [
    "rows = []\n",
    "for currency in etree.parse('./CurrencyRates.xml').findall('/Currency'):\n",
    "    rows.append({\"code\": currency.attrib['Code'], \"name\": currency.attrib['Name'], \"multiplier\": currency.xpath('TendersDateRate')[0].attrib['Quantity']})\n",
    "TAX_codes = pd.DataFrame(rows, columns=[\"code\", \"name\", \"multiplier\"])"
   ]
  },
  {
   "cell_type": "code",
   "execution_count": 40,
   "id": "11f73a98-a5e8-4d11-abf2-4b3654e28537",
   "metadata": {},
   "outputs": [],
   "source": [
    "rows = []\n",
    "cbr_list = etree.fromstring(bytes(requests.get(\"http://www.cbr.ru/scripts/XML_valFull.asp\").text, encoding='cp1251'))\n",
    "for node in cbr_list:\n",
    "    if node.find(\"ISO_Num_Code\").text is None:\n",
    "        continue\n",
    "    code = f\"{int(node.find('ISO_Num_Code').text):03d}\"\n",
    "    iso = node.find(\"ISO_Char_Code\").text\n",
    "    rows.append({\"iso\": iso, \"code\": code})\n",
    "CBR_codes = pd.DataFrame(rows, columns=[\"iso\", \"code\"])"
   ]
  },
  {
   "cell_type": "code",
   "execution_count": 41,
   "id": "e1b4c064-9cd0-4d12-8b38-f66d9e995d71",
   "metadata": {},
   "outputs": [
    {
     "name": "stdout",
     "output_type": "stream",
     "text": [
      "currencies = {\n",
      "    'AUD': {'code': '036', 'name': 'Австралийский доллар', 'multiplier': 100},\n",
      "    'AZN': {'code': '944', 'name': 'Азербайджанский манат', 'multiplier': 100},\n",
      "    'GBP': {'code': '826', 'name': 'Фунт стерлингов', 'multiplier': 100},\n",
      "    'AMD': {'code': '051', 'name': 'Армянский драм', 'multiplier': 10000},\n",
      "    'BYN': {'code': '933', 'name': 'Белорусский рубль', 'multiplier': 100},\n",
      "    'BGN': {'code': '975', 'name': 'Болгарский лев', 'multiplier': 100},\n",
      "    'BRL': {'code': '986', 'name': 'Бразильский реал', 'multiplier': 100},\n",
      "    'HUF': {'code': '348', 'name': 'Форинт', 'multiplier': 10000},\n",
      "    'HKD': {'code': '344', 'name': 'Гонконгский доллар', 'multiplier': 1000},\n",
      "    'DKK': {'code': '208', 'name': 'Датская крона', 'multiplier': 100},\n",
      "    'USD': {'code': '840', 'name': 'Доллар США', 'multiplier': 100},\n",
      "    'EUR': {'code': '978', 'name': 'Евро', 'multiplier': 100},\n",
      "    'INR': {'code': '356', 'name': 'Индийская рупия', 'multiplier': 10000},\n",
      "    'KZT': {'code': '398', 'name': 'Тенге', 'multiplier': 10000},\n",
      "    'CAD': {'code': '124', 'name': 'Канадский доллар', 'multiplier': 100},\n",
      "    'KGS': {'code': '417', 'name': 'Сом', 'multiplier': 10000},\n",
      "    'CNY': {'code': '156', 'name': 'Юань', 'multiplier': 100},\n",
      "    'MDL': {'code': '498', 'name': 'Молдавский лей', 'multiplier': 1000},\n",
      "    'NOK': {'code': '578', 'name': 'Норвежская крона', 'multiplier': 1000},\n",
      "    'PLN': {'code': '985', 'name': 'Злотый', 'multiplier': 100},\n",
      "    'RON': {'code': '946', 'name': 'Румынский лей', 'multiplier': 100},\n",
      "    'SGD': {'code': '702', 'name': 'Сингапурский доллар', 'multiplier': 100},\n",
      "    'TJS': {'code': '972', 'name': 'Сомони', 'multiplier': 1000},\n",
      "    'TRY': {'code': '949', 'name': 'Турецкая лира', 'multiplier': 100},\n",
      "    'TMT': {'code': '934', 'name': 'Новый туркменский манат', 'multiplier': 100},\n",
      "    'UZS': {'code': '860', 'name': 'Узбекский сум', 'multiplier': 1000000},\n",
      "    'UAH': {'code': '980', 'name': 'Гривна', 'multiplier': 1000},\n",
      "    'CZK': {'code': '203', 'name': 'Чешская крона', 'multiplier': 1000},\n",
      "    'SEK': {'code': '752', 'name': 'Шведская крона', 'multiplier': 1000},\n",
      "    'CHF': {'code': '756', 'name': 'Швейцарский франк', 'multiplier': 100},\n",
      "    'ZAR': {'code': '710', 'name': 'Рэнд', 'multiplier': 1000},\n",
      "    'KRW': {'code': '410', 'name': 'Вона', 'multiplier': 100000},\n",
      "    'JPY': {'code': '392', 'name': 'Иена', 'multiplier': 10000}\n",
      "}\n"
     ]
    }
   ],
   "source": [
    "currencies = pd.merge(left=CBR_codes, right=TAX_codes, on=\"code\")\n",
    "print(\"currencies = {\")\n",
    "for i, row in currencies.iterrows():\n",
    "    line_end = '' if i == (currencies.shape[0] - 1) else ','\n",
    "    print(f\"    '{row['iso']}': {{'code': '{row['code']}', 'name': '{row['name']}', 'multiplier': {row['multiplier']}}}\" + line_end)\n",
    "print(\"}\")"
   ]
  }
 ],
 "metadata": {
  "kernelspec": {
   "display_name": "Python 3 (ipykernel)",
   "language": "python",
   "name": "python3"
  },
  "language_info": {
   "codemirror_mode": {
    "name": "ipython",
    "version": 3
   },
   "file_extension": ".py",
   "mimetype": "text/x-python",
   "name": "python",
   "nbconvert_exporter": "python",
   "pygments_lexer": "ipython3",
   "version": "3.9.6"
  }
 },
 "nbformat": 4,
 "nbformat_minor": 5
}
